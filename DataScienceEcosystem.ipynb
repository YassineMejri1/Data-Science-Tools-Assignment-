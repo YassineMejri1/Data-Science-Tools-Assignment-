{
 "cells": [
  {
   "cell_type": "markdown",
   "id": "35852296-19e8-4e1b-84b4-a4b770181350",
   "metadata": {},
   "source": [
    "# Data Science Tools and Ecosystem"
   ]
  },
  {
   "cell_type": "markdown",
   "id": "98c982a7-1cf0-4346-a314-41f8990a0256",
   "metadata": {},
   "source": [
    "In this notebook, Data Science Tools and Ecosystem are summarized."
   ]
  },
  {
   "cell_type": "markdown",
   "id": "1ffeb1c8-b83a-4220-89ee-24e8d59bb632",
   "metadata": {},
   "source": [
    "**Objectives :**\n",
    "- List popular languages for Data Science\n",
    "- List commonly used libraries for Data Science\n",
    "- List popular Data Science IDE"
   ]
  },
  {
   "cell_type": "markdown",
   "id": "fd284d72-4a3f-45b2-bdb1-582fa44574d8",
   "metadata": {},
   "source": [
    "Some of the popular languages that Data Scientists use are:\n",
    "1. Python\n",
    "2. R\n",
    "3. Julia"
   ]
  },
  {
   "cell_type": "markdown",
   "id": "7817cec8-a21e-4f8a-aeeb-99db256d4463",
   "metadata": {},
   "source": [
    "Some of the commonly used libraries used by Data Scientists include:\n",
    "1. Numpy\n",
    "2. ggplot2\n",
    "3. Pandas"
   ]
  },
  {
   "cell_type": "markdown",
   "id": "c34c5d88-a0d7-4ea3-9f0a-1a2018a7cac3",
   "metadata": {},
   "source": [
    "| **Data Science Tools** |\n",
    "| ---------------------- |\n",
    "|     Jupiter Notebook   |\n",
    "|     R Studio           |\n",
    "|     VS Code            |"
   ]
  },
  {
   "cell_type": "markdown",
   "id": "04ebed6c-1acf-4d45-9ca3-627a24a93cbd",
   "metadata": {},
   "source": [
    "### Below are a few examples of evaluating arithmetic expressions in Python"
   ]
  },
  {
   "cell_type": "code",
   "execution_count": 1,
   "id": "393b8abd-f4ac-41d1-8e61-5fc97c6e0510",
   "metadata": {
    "tags": []
   },
   "outputs": [
    {
     "data": {
      "text/plain": [
       "17"
      ]
     },
     "execution_count": 1,
     "metadata": {},
     "output_type": "execute_result"
    }
   ],
   "source": [
    "# This a simple arithmetic expression to mutiply then add integers\n",
    "(3*4)+5"
   ]
  },
  {
   "cell_type": "code",
   "execution_count": 2,
   "id": "1ac72ba6-655e-4d73-a2b0-d101bc389562",
   "metadata": {
    "tags": []
   },
   "outputs": [
    {
     "data": {
      "text/plain": [
       "3.3333333333333335"
      ]
     },
     "execution_count": 2,
     "metadata": {},
     "output_type": "execute_result"
    }
   ],
   "source": [
    "#This will convert 200 minutes to hours by diving by 60\n",
    "200 / 60"
   ]
  },
  {
   "cell_type": "markdown",
   "id": "78fbc819-4783-4ca8-9e85-2efba8f0d307",
   "metadata": {},
   "source": [
    "## Author\n",
    "Yassine Mejri"
   ]
  },
  {
   "cell_type": "code",
   "execution_count": null,
   "id": "58c11fd7-d573-4e27-9a1e-c7026300115b",
   "metadata": {},
   "outputs": [],
   "source": []
  }
 ],
 "metadata": {
  "kernelspec": {
   "display_name": "Python",
   "language": "python",
   "name": "conda-env-python-py"
  },
  "language_info": {
   "codemirror_mode": {
    "name": "ipython",
    "version": 3
   },
   "file_extension": ".py",
   "mimetype": "text/x-python",
   "name": "python",
   "nbconvert_exporter": "python",
   "pygments_lexer": "ipython3",
   "version": "3.7.12"
  }
 },
 "nbformat": 4,
 "nbformat_minor": 5
}
